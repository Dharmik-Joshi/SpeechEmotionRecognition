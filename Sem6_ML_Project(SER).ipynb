{
 "cells": [
  {
   "cell_type": "markdown",
   "metadata": {},
   "source": [
    "#  Speech Emotion Recognition\n",
    "\n",
    "### Sem 6 , ML Project , Prof : Abhijit Patil \n",
    " \n",
    "### 47 Jay Bharambe\n",
    "### 52 Aniketh Gaonkar\n",
    "### 55 Dharmik Joshi"
   ]
  },
  {
   "cell_type": "code",
   "execution_count": 61,
   "metadata": {},
   "outputs": [],
   "source": [
    "import librosa\n",
    "import soundfile\n",
    "import pandas as pd\n",
    "import os, glob, pickle\n",
    "import numpy as np\n",
    "from tqdm import tqdm\n",
    "from scipy.io import wavfile\n",
    "import matplotlib.pyplot as plt\n",
    "from sklearn.model_selection import train_test_split\n",
    "from sklearn.neural_network import MLPClassifier\n",
    "from sklearn.metrics import accuracy_score"
   ]
  },
  {
   "cell_type": "markdown",
   "metadata": {},
   "source": [
    "# Loading the Dataset (Ravdess)"
   ]
  },
  {
   "cell_type": "code",
   "execution_count": 2,
   "metadata": {},
   "outputs": [
    {
     "data": {
      "text/plain": [
       "1440"
      ]
     },
     "execution_count": 2,
     "metadata": {},
     "output_type": "execute_result"
    }
   ],
   "source": [
    "os.listdir(path='.\\Ravdess Dataset')\n",
    "def getListOfFiles(dirName):\n",
    "    listOfFile=os.listdir(dirName)\n",
    "    allFiles=list()\n",
    "    for entry in listOfFile:\n",
    "        fullPath=os.path.join(dirName, entry)\n",
    "        if os.path.isdir(fullPath):\n",
    "            allFiles=allFiles + getListOfFiles(fullPath)\n",
    "        else:\n",
    "            allFiles.append(fullPath)\n",
    "    return allFiles\n",
    "\n",
    "dirName = './Ravdess Dataset'\n",
    "listOfFiles = getListOfFiles(dirName)\n",
    "len(listOfFiles)"
   ]
  },
  {
   "cell_type": "markdown",
   "metadata": {},
   "source": [
    "# Now Cleaning Step is Performed where: \n",
    "#### DOWN SAMPLING OF AUDIO FILES IS DONE  AND PUT MASK OVER IT AND DIRECT INTO CLEAN FOLDER\n",
    "#### MASK IS TO REMOVE UNNECESSARY EMPTY VOIDES AROUND THE MAIN AUDIO VOICE \n"
   ]
  },
  {
   "cell_type": "code",
   "execution_count": 4,
   "metadata": {},
   "outputs": [],
   "source": [
    "def envelope(y , rate, threshold):\n",
    "    mask=[]\n",
    "    y=pd.Series(y).apply(np.abs)\n",
    "    y_mean = y.rolling(window=int(rate/10) ,  min_periods=1 , center = True).mean()\n",
    "    for mean in y_mean:\n",
    "        if mean>threshold:\n",
    "            mask.append(True)\n",
    "        else:\n",
    "            mask.append(False)\n",
    "    return mask"
   ]
  },
  {
   "cell_type": "markdown",
   "metadata": {},
   "source": [
    "# Plotting the Basic Graphs for understanding of Audio Files :\n",
    " ## 1) Spectogram"
   ]
  },
  {
   "cell_type": "code",
   "execution_count": 4,
   "metadata": {},
   "outputs": [],
   "source": [
    "# for file in range(0 , len(listOfFiles) , 1):\n",
    "#     audio , sfreq = librosa.load(listOfFiles[file])\n",
    "#     time = np.arange(0 , len(audio)) / sfreq\n",
    "    \n",
    "#     fig ,ax = plt.subplots()\n",
    "#     ax.plot(time , audio)\n",
    "#     ax.set(xlabel = 'Time  in (s)' , ylabel = 'Amplitude')\n",
    "#     plt.show()\n",
    "    \n",
    "# #PLOT THE SEPCTOGRAM\n",
    "# for file in range(0 , len(listOfFiles) , 1):\n",
    "#      sample_rate , samples = wavfile.read(listOfFiles[file])\n",
    "#      frequencies , times, spectrogram = signal.spectrogram(samples, sample_rate) \n",
    "#      plt.pcolormesh(times, frequencies, spectrogram)\n",
    "#      plt.imshow(spectrogram)\n",
    "#      plt.ylabel('Frequency [Hz]')\n",
    "#      plt.xlabel('Time [sec]')\n",
    "#      plt.show()"
   ]
  },
  {
   "cell_type": "markdown",
   "metadata": {},
   "source": [
    "# Cleaning the data for efficiency"
   ]
  },
  {
   "cell_type": "code",
   "execution_count": 5,
   "metadata": {},
   "outputs": [
    {
     "name": "stderr",
     "output_type": "stream",
     "text": [
      "100%|██████████████████████████████████████████████████████████████████████████████| 1440/1440 [02:24<00:00,  9.97it/s]\n"
     ]
    }
   ],
   "source": [
    "#Now Cleaning Step is Performed where:\n",
    "#DOWN SAMPLING OF AUDIO FILES IS DONE  AND PUT MASK OVER IT AND DIRECT INTO CLEAN FOLDER\n",
    "#MASK IS TO REMOVE UNNECESSARY EMPTY VOIVES AROUND THE MAIN AUDIO VOICE \n",
    "def envelope(y , rate, threshold):\n",
    "    mask=[]\n",
    "    y=pd.Series(y).apply(np.abs)\n",
    "    y_mean = y.rolling(window=int(rate/10) ,  min_periods=1 , center = True).mean()\n",
    "    for mean in y_mean:\n",
    "        if mean>threshold:\n",
    "            mask.append(True)\n",
    "        else:\n",
    "            mask.append(False)\n",
    "    return mask\n",
    "\n",
    "\n",
    "#The clean Audio Files are redirected to Clean Audio Folder Directory \n",
    "import glob,pickle\n",
    "for file in tqdm(glob.glob(r'C:\\Users\\User\\Downloads/Ravdess Dataset\\\\**\\\\*.wav')):\n",
    "    file_name = os.path.basename(file)\n",
    "    signal , rate = librosa.load(file, sr=16000)\n",
    "    mask = envelope(signal,rate, 0.0005)\n",
    "    wavfile.write(filename= r'C:\\Users\\User\\Downloads\\clean_speech\\\\'+str(file_name), rate=rate,data=signal[mask])"
   ]
  },
  {
   "cell_type": "markdown",
   "metadata": {},
   "source": [
    "# Extract features (mfcc, chroma, mel) from a sound file"
   ]
  },
  {
   "cell_type": "code",
   "execution_count": 62,
   "metadata": {},
   "outputs": [],
   "source": [
    "def extract_feature(file_name, mfcc, chroma, mel):\n",
    "    with soundfile.SoundFile(file_name) as sound_file:\n",
    "        X = sound_file.read(dtype=\"float32\")\n",
    "        sample_rate=sound_file.samplerate\n",
    "        if chroma:\n",
    "            stft=np.abs(librosa.stft(X))\n",
    "        result=np.array([])\n",
    "        if mfcc:\n",
    "            mfccs=np.mean(librosa.feature.mfcc(y=X, sr=sample_rate, n_mfcc=40).T, axis=0)\n",
    "        result=np.hstack((result, mfccs))\n",
    "        if chroma:\n",
    "            chroma=np.mean(librosa.feature.chroma_stft(S=stft, sr=sample_rate).T,axis=0)\n",
    "        result=np.hstack((result, chroma))\n",
    "        if mel:\n",
    "            mel=np.mean(librosa.feature.melspectrogram(X, sr=sample_rate).T,axis=0)\n",
    "        result=np.hstack((result, mel))\n",
    "    return result"
   ]
  },
  {
   "cell_type": "markdown",
   "metadata": {},
   "source": [
    "# Emptions in the dataset"
   ]
  },
  {
   "cell_type": "code",
   "execution_count": 63,
   "metadata": {},
   "outputs": [],
   "source": [
    "emotions={\n",
    "  '01':'neutral',\n",
    "  '02':'calm',\n",
    "  '03':'happy',\n",
    "  '04':'sad',\n",
    "  '05':'angry',\n",
    "  '06':'fearful',\n",
    "  '07':'disgust',\n",
    "  '08':'surprised'\n",
    "}\n",
    "#These are the emotions User wants to observe more :\n",
    "observed_emotions=['calm', 'happy', 'angry', 'disgust']"
   ]
  },
  {
   "cell_type": "markdown",
   "metadata": {},
   "source": [
    "# Loading the clean data and extracting the data from it "
   ]
  },
  {
   "cell_type": "code",
   "execution_count": 53,
   "metadata": {},
   "outputs": [],
   "source": [
    "from glob import glob\n",
    "import os\n",
    "import glob\n",
    "def load_data(test_size=0.33):\n",
    "    x,y=[],[]\n",
    "    answer = 0\n",
    "    for file in glob.glob(r'C:\\Users\\User\\Downloads\\clean_speech\\\\*.wav'):\n",
    "        file_name=os.path.basename(file)\n",
    "        emotion=emotions[file_name.split(\"-\")[2]]\n",
    "        if emotion not in observed_emotions:\n",
    "            answer += 1\n",
    "            continue\n",
    "        feature=extract_feature(file, mfcc=True, chroma=True, mel=True)\n",
    "        x.append(feature)\n",
    "        y.append([emotion,file_name])\n",
    "    return train_test_split(np.array(x), y, test_size=test_size, random_state=0)"
   ]
  },
  {
   "cell_type": "markdown",
   "metadata": {},
   "source": [
    "#  Splittin the dataset into test and trial data"
   ]
  },
  {
   "cell_type": "code",
   "execution_count": 54,
   "metadata": {},
   "outputs": [
    {
     "name": "stdout",
     "output_type": "stream",
     "text": [
      "(576, 180) (192, 180) (576, 2) (192, 2)\n",
      "(576,) (192,)\n",
      "03-01-07-01-02-02-14.wav\n",
      "03-01-02-02-01-02-03.wav\n",
      "03-01-02-02-01-01-18.wav\n",
      "03-01-02-01-01-01-15.wav\n",
      "03-01-05-02-02-01-02.wav\n",
      "03-01-02-02-01-01-08.wav\n",
      "03-01-03-02-02-01-03.wav\n",
      "03-01-07-01-01-01-13.wav\n",
      "03-01-05-01-01-01-12.wav\n",
      "03-01-03-01-01-01-13.wav\n",
      "03-01-02-01-01-02-08.wav\n",
      "03-01-05-02-02-01-19.wav\n",
      "03-01-03-01-02-02-15.wav\n",
      "03-01-07-01-01-01-18.wav\n",
      "03-01-07-02-02-01-18.wav\n",
      "03-01-03-01-01-01-11.wav\n",
      "03-01-02-02-02-02-08.wav\n",
      "03-01-02-01-02-01-08.wav\n",
      "03-01-05-01-02-02-24.wav\n",
      "03-01-03-02-02-02-06.wav\n",
      "03-01-05-01-01-02-10.wav\n",
      "03-01-07-01-01-01-02.wav\n",
      "03-01-02-02-02-02-05.wav\n",
      "03-01-03-02-02-01-17.wav\n",
      "03-01-02-01-01-02-04.wav\n",
      "03-01-07-01-01-02-06.wav\n",
      "03-01-03-01-01-02-24.wav\n",
      "03-01-07-02-02-02-01.wav\n",
      "03-01-02-01-02-02-08.wav\n",
      "03-01-05-02-01-01-17.wav\n",
      "03-01-03-01-02-02-22.wav\n",
      "03-01-05-01-01-02-15.wav\n",
      "03-01-07-01-02-01-17.wav\n",
      "03-01-03-02-02-02-15.wav\n",
      "03-01-05-01-01-01-02.wav\n",
      "03-01-05-01-01-01-21.wav\n",
      "03-01-07-01-02-02-01.wav\n",
      "03-01-05-02-01-01-21.wav\n",
      "03-01-05-02-02-02-24.wav\n",
      "03-01-02-01-01-02-17.wav\n",
      "03-01-02-02-02-02-14.wav\n",
      "03-01-03-02-02-01-19.wav\n",
      "03-01-05-02-02-02-12.wav\n",
      "03-01-05-01-01-01-16.wav\n",
      "03-01-02-01-01-01-09.wav\n",
      "03-01-02-02-02-01-02.wav\n",
      "03-01-03-01-02-02-08.wav\n",
      "03-01-05-01-01-02-12.wav\n",
      "03-01-03-01-01-01-07.wav\n",
      "03-01-07-02-01-01-12.wav\n",
      "03-01-07-01-01-01-03.wav\n",
      "03-01-02-02-01-02-23.wav\n",
      "03-01-03-01-01-01-24.wav\n",
      "03-01-07-02-02-02-13.wav\n",
      "03-01-05-01-02-01-21.wav\n",
      "03-01-02-01-02-02-04.wav\n",
      "03-01-02-01-01-01-02.wav\n",
      "03-01-03-02-01-01-16.wav\n",
      "03-01-05-01-02-01-20.wav\n",
      "03-01-07-02-01-02-11.wav\n",
      "03-01-07-01-02-02-15.wav\n",
      "03-01-03-02-02-02-05.wav\n",
      "03-01-07-01-02-01-03.wav\n",
      "03-01-03-01-02-02-03.wav\n",
      "03-01-03-02-01-02-06.wav\n",
      "03-01-05-01-01-02-01.wav\n",
      "03-01-03-02-02-01-20.wav\n",
      "03-01-03-01-02-02-09.wav\n",
      "03-01-03-01-02-01-11.wav\n",
      "03-01-05-01-01-01-20.wav\n",
      "03-01-07-01-02-01-01.wav\n",
      "03-01-03-01-01-02-07.wav\n",
      "03-01-03-01-02-01-14.wav\n",
      "03-01-07-01-01-02-23.wav\n",
      "03-01-03-01-01-02-20.wav\n",
      "03-01-03-02-02-01-16.wav\n",
      "03-01-07-02-01-01-01.wav\n",
      "03-01-05-02-01-01-20.wav\n",
      "03-01-07-02-02-01-01.wav\n",
      "03-01-05-02-02-02-05.wav\n",
      "03-01-07-01-01-01-08.wav\n",
      "03-01-02-02-02-01-07.wav\n",
      "03-01-02-01-02-02-14.wav\n",
      "03-01-05-02-01-02-23.wav\n",
      "03-01-07-02-02-01-16.wav\n",
      "03-01-03-02-02-01-15.wav\n",
      "03-01-03-01-02-01-03.wav\n",
      "03-01-02-01-01-01-19.wav\n",
      "03-01-03-01-01-02-21.wav\n",
      "03-01-07-01-01-02-24.wav\n",
      "03-01-07-01-01-02-03.wav\n",
      "03-01-03-01-02-01-12.wav\n",
      "03-01-03-02-01-02-02.wav\n",
      "03-01-02-01-02-01-03.wav\n",
      "03-01-05-02-02-01-21.wav\n",
      "03-01-05-02-02-02-21.wav\n",
      "03-01-07-01-02-01-15.wav\n",
      "03-01-07-01-01-02-09.wav\n",
      "03-01-02-01-01-02-16.wav\n",
      "03-01-05-01-01-01-23.wav\n",
      "03-01-02-02-02-01-19.wav\n",
      "03-01-02-02-02-01-13.wav\n",
      "03-01-02-01-01-01-11.wav\n",
      "03-01-02-01-02-01-21.wav\n",
      "03-01-03-01-02-02-04.wav\n",
      "03-01-05-01-02-01-12.wav\n",
      "03-01-07-02-02-01-17.wav\n",
      "03-01-05-01-02-02-16.wav\n",
      "03-01-03-02-01-02-05.wav\n",
      "03-01-02-01-01-01-03.wav\n",
      "03-01-07-02-02-02-17.wav\n",
      "03-01-03-01-01-01-23.wav\n",
      "03-01-07-01-01-01-11.wav\n",
      "03-01-02-02-02-02-20.wav\n",
      "03-01-05-01-01-02-08.wav\n",
      "03-01-03-01-02-02-20.wav\n",
      "03-01-03-01-02-02-16.wav\n",
      "03-01-03-01-02-01-19.wav\n",
      "03-01-03-01-02-01-10.wav\n",
      "03-01-07-02-02-01-21.wav\n",
      "03-01-07-02-02-01-06.wav\n",
      "03-01-03-02-02-02-03.wav\n",
      "03-01-03-02-01-02-07.wav\n",
      "03-01-07-01-01-01-07.wav\n",
      "03-01-05-01-01-02-06.wav\n",
      "03-01-07-02-01-01-23.wav\n",
      "03-01-07-02-01-02-03.wav\n",
      "03-01-05-01-01-01-03.wav\n",
      "03-01-05-01-02-02-01.wav\n",
      "03-01-07-02-02-01-09.wav\n",
      "03-01-02-01-02-01-24.wav\n",
      "03-01-02-01-02-01-02.wav\n",
      "03-01-03-01-01-01-19.wav\n",
      "03-01-05-01-01-02-02.wav\n",
      "03-01-05-02-01-01-24.wav\n",
      "03-01-02-01-01-02-14.wav\n",
      "03-01-07-02-01-01-16.wav\n",
      "03-01-02-01-02-01-01.wav\n",
      "03-01-03-01-02-01-22.wav\n",
      "03-01-07-01-02-02-06.wav\n",
      "03-01-03-02-01-02-20.wav\n",
      "03-01-05-02-02-02-17.wav\n",
      "03-01-03-01-01-01-05.wav\n",
      "03-01-02-01-02-02-05.wav\n",
      "03-01-02-01-02-01-17.wav\n",
      "03-01-07-01-02-02-24.wav\n",
      "03-01-02-01-02-01-05.wav\n",
      "03-01-03-02-01-01-23.wav\n",
      "03-01-05-01-01-02-09.wav\n",
      "03-01-05-01-02-02-21.wav\n",
      "03-01-05-02-01-01-03.wav\n",
      "03-01-03-01-01-02-15.wav\n",
      "03-01-05-02-01-02-24.wav\n",
      "03-01-03-02-02-02-21.wav\n",
      "03-01-07-01-01-02-04.wav\n",
      "03-01-02-02-01-01-23.wav\n",
      "03-01-03-01-02-01-08.wav\n",
      "03-01-02-02-02-01-14.wav\n",
      "03-01-05-01-02-02-13.wav\n",
      "03-01-03-01-01-01-02.wav\n",
      "03-01-03-02-01-01-19.wav\n",
      "03-01-03-02-01-02-08.wav\n",
      "03-01-02-02-01-01-02.wav\n",
      "03-01-05-02-02-01-03.wav\n",
      "03-01-03-02-01-02-16.wav\n",
      "03-01-07-01-01-02-20.wav\n",
      "03-01-05-02-01-02-15.wav\n",
      "03-01-07-01-02-01-09.wav\n",
      "03-01-05-02-01-02-21.wav\n",
      "03-01-05-02-02-01-09.wav\n",
      "03-01-07-01-01-01-22.wav\n",
      "03-01-05-01-02-02-07.wav\n",
      "03-01-02-01-01-01-18.wav\n",
      "03-01-07-02-02-01-20.wav\n",
      "03-01-03-01-02-01-24.wav\n",
      "03-01-03-01-02-01-02.wav\n",
      "03-01-03-02-02-01-09.wav\n",
      "03-01-03-02-01-01-15.wav\n",
      "03-01-07-02-01-02-09.wav\n",
      "03-01-03-01-02-01-01.wav\n",
      "03-01-02-02-02-02-03.wav\n",
      "03-01-07-02-01-01-20.wav\n",
      "03-01-05-02-01-01-11.wav\n",
      "03-01-02-01-01-02-22.wav\n",
      "03-01-07-02-02-02-07.wav\n",
      "03-01-02-01-02-01-15.wav\n",
      "03-01-02-01-02-02-07.wav\n",
      "03-01-03-02-02-02-07.wav\n",
      "03-01-03-02-01-01-14.wav\n",
      "03-01-03-02-02-02-23.wav\n",
      "03-01-02-02-01-02-21.wav\n",
      "03-01-05-01-02-02-08.wav\n"
     ]
    }
   ],
   "source": [
    "x_train,x_test,y_train,y_test=load_data(test_size=0.25)\n",
    "print(np.shape(x_train),np.shape(x_test), np.shape(y_train),np.shape(y_test))\n",
    "y_test_map = np.array(y_test).T\n",
    "y_test = y_test_map[0]\n",
    "test_filename = y_test_map[1]\n",
    "y_train_map = np.array(y_train).T\n",
    "y_train = y_train_map[0]\n",
    "train_filename = y_train_map[1]\n",
    "print(np.shape(y_train),np.shape(y_test))\n",
    "print(*test_filename,sep=\"\\n\")"
   ]
  },
  {
   "cell_type": "markdown",
   "metadata": {},
   "source": [
    "# Initialize the Multi Layer Perceptron Classifier "
   ]
  },
  {
   "cell_type": "code",
   "execution_count": 55,
   "metadata": {},
   "outputs": [],
   "source": [
    "model=MLPClassifier(alpha=0.01, batch_size=256, epsilon=1e-08, hidden_layer_sizes=(300,), learning_rate='adaptive', max_iter=500)"
   ]
  },
  {
   "cell_type": "markdown",
   "metadata": {},
   "source": [
    "# train the model  "
   ]
  },
  {
   "cell_type": "code",
   "execution_count": 56,
   "metadata": {},
   "outputs": [
    {
     "data": {
      "text/plain": [
       "MLPClassifier(alpha=0.01, batch_size=256, hidden_layer_sizes=(300,),\n",
       "              learning_rate='adaptive', max_iter=500)"
      ]
     },
     "execution_count": 56,
     "metadata": {},
     "output_type": "execute_result"
    }
   ],
   "source": [
    "\n",
    "model.fit(x_train,y_train)"
   ]
  },
  {
   "cell_type": "markdown",
   "metadata": {},
   "source": [
    "# Saving this model for future use"
   ]
  },
  {
   "cell_type": "code",
   "execution_count": 57,
   "metadata": {},
   "outputs": [],
   "source": [
    "import pickle\n",
    "# Save the Model to file in the current working directory\n",
    "#For any new testing data other than the data in dataset\n",
    "\n",
    "Pkl_Filename = \"VoiceEmotionRecogModel_DharmikJoshi.pkl\"  \n",
    "\n",
    "with open(Pkl_Filename, 'wb') as file:  \n",
    "    pickle.dump(model, file)"
   ]
  },
  {
   "cell_type": "markdown",
   "metadata": {},
   "source": [
    "# Loading the Saved Model back for using "
   ]
  },
  {
   "cell_type": "code",
   "execution_count": 64,
   "metadata": {},
   "outputs": [
    {
     "data": {
      "text/plain": [
       "MLPClassifier(alpha=0.01, batch_size=256, hidden_layer_sizes=(300,),\n",
       "              learning_rate='adaptive', max_iter=500)"
      ]
     },
     "execution_count": 64,
     "metadata": {},
     "output_type": "execute_result"
    }
   ],
   "source": [
    "# Load the Model back from file\n",
    "Pkl_Filename = \"VoiceEmotionRecogModel_DharmikJoshi.pkl\"\n",
    "with open(Pkl_Filename, 'rb') as file:  \n",
    "    VoiceEmotionRecogModel_DharmikJoshi = pickle.load(file)\n",
    "\n",
    "VoiceEmotionRecogModel_DharmikJoshi"
   ]
  },
  {
   "cell_type": "markdown",
   "metadata": {},
   "source": [
    "# Predicting the y_test values using the loaded Model"
   ]
  },
  {
   "cell_type": "code",
   "execution_count": 59,
   "metadata": {},
   "outputs": [
    {
     "data": {
      "text/plain": [
       "array(['disgust', 'disgust', 'calm', 'calm', 'angry', 'calm', 'happy',\n",
       "       'disgust', 'angry', 'calm', 'calm', 'angry', 'happy', 'disgust',\n",
       "       'disgust', 'happy', 'calm', 'calm', 'angry', 'happy', 'angry',\n",
       "       'disgust', 'calm', 'disgust', 'calm', 'disgust', 'happy',\n",
       "       'disgust', 'disgust', 'angry', 'happy', 'angry', 'disgust',\n",
       "       'happy', 'angry', 'angry', 'disgust', 'happy', 'angry', 'calm',\n",
       "       'disgust', 'happy', 'angry', 'angry', 'calm', 'calm', 'happy',\n",
       "       'angry', 'disgust', 'disgust', 'disgust', 'calm', 'calm',\n",
       "       'disgust', 'angry', 'calm', 'disgust', 'angry', 'disgust',\n",
       "       'disgust', 'disgust', 'happy', 'disgust', 'calm', 'happy', 'angry',\n",
       "       'happy', 'happy', 'disgust', 'calm', 'calm', 'happy', 'happy',\n",
       "       'calm', 'angry', 'happy', 'disgust', 'angry', 'disgust', 'angry',\n",
       "       'disgust', 'calm', 'disgust', 'angry', 'disgust', 'angry', 'happy',\n",
       "       'calm', 'happy', 'angry', 'disgust', 'happy', 'happy', 'calm',\n",
       "       'angry', 'angry', 'happy', 'disgust', 'disgust', 'angry', 'calm',\n",
       "       'calm', 'calm', 'calm', 'happy', 'disgust', 'disgust', 'angry',\n",
       "       'happy', 'calm', 'disgust', 'happy', 'disgust', 'calm', 'angry',\n",
       "       'happy', 'happy', 'happy', 'happy', 'disgust', 'happy', 'happy',\n",
       "       'happy', 'disgust', 'happy', 'angry', 'disgust', 'disgust',\n",
       "       'angry', 'disgust', 'calm', 'calm', 'happy', 'angry', 'angry',\n",
       "       'calm', 'disgust', 'calm', 'disgust', 'calm', 'happy', 'angry',\n",
       "       'happy', 'disgust', 'calm', 'disgust', 'disgust', 'happy', 'angry',\n",
       "       'angry', 'angry', 'angry', 'angry', 'angry', 'disgust', 'disgust',\n",
       "       'happy', 'calm', 'angry', 'happy', 'disgust', 'happy', 'calm',\n",
       "       'angry', 'happy', 'disgust', 'angry', 'angry', 'angry', 'angry',\n",
       "       'disgust', 'angry', 'calm', 'disgust', 'angry', 'happy', 'happy',\n",
       "       'angry', 'disgust', 'happy', 'calm', 'disgust', 'happy', 'calm',\n",
       "       'disgust', 'calm', 'happy', 'happy', 'happy', 'happy', 'calm',\n",
       "       'angry'], dtype='<U7')"
      ]
     },
     "execution_count": 59,
     "metadata": {},
     "output_type": "execute_result"
    }
   ],
   "source": [
    "#predicting :\n",
    "y_pred=VoiceEmotionRecogModel_DharmikJoshi.predict(x_test)\n",
    "y_pred"
   ]
  },
  {
   "cell_type": "markdown",
   "metadata": {},
   "source": [
    "#  Testing the accuracy of this Model "
   ]
  },
  {
   "cell_type": "code",
   "execution_count": 60,
   "metadata": {},
   "outputs": [
    {
     "name": "stdout",
     "output_type": "stream",
     "text": [
      "Accuracy of this Model =  79.16666666666666 %\n"
     ]
    }
   ],
   "source": [
    "from sklearn.metrics import accuracy_score\n",
    "\n",
    "accuracy=accuracy_score(y_true=y_test, y_pred=y_pred)\n",
    "\n",
    "print('Accuracy of this Model = ',accuracy*100,'%')"
   ]
  },
  {
   "cell_type": "markdown",
   "metadata": {},
   "source": [
    "# Saving the predictions in a .csv file "
   ]
  },
  {
   "cell_type": "code",
   "execution_count": 61,
   "metadata": {},
   "outputs": [
    {
     "name": "stdout",
     "output_type": "stream",
     "text": [
      "    Predictions             Name of Files\n",
      "0       disgust  03-01-07-01-02-02-14.wav\n",
      "1       disgust  03-01-02-02-01-02-03.wav\n",
      "2          calm  03-01-02-02-01-01-18.wav\n",
      "3          calm  03-01-02-01-01-01-15.wav\n",
      "4         angry  03-01-05-02-02-01-02.wav\n",
      "..          ...                       ...\n",
      "187       happy  03-01-03-02-02-02-07.wav\n",
      "188       happy  03-01-03-02-01-01-14.wav\n",
      "189       happy  03-01-03-02-02-02-23.wav\n",
      "190        calm  03-01-02-02-01-02-21.wav\n",
      "191       angry  03-01-05-01-02-02-08.wav\n",
      "\n",
      "[192 rows x 2 columns]\n"
     ]
    }
   ],
   "source": [
    "import pandas as pd\n",
    "y_pred1 = pd.DataFrame(y_pred , columns=['Predictions'])\n",
    "y_pred1['Name of Files'] = test_filename\n",
    "print(y_pred1)\n",
    "y_pred1.to_csv('FinalPredictions.csv')"
   ]
  },
  {
   "cell_type": "code",
   "execution_count": 62,
   "metadata": {},
   "outputs": [
    {
     "data": {
      "text/html": [
       "<div>\n",
       "<style scoped>\n",
       "    .dataframe tbody tr th:only-of-type {\n",
       "        vertical-align: middle;\n",
       "    }\n",
       "\n",
       "    .dataframe tbody tr th {\n",
       "        vertical-align: top;\n",
       "    }\n",
       "\n",
       "    .dataframe thead th {\n",
       "        text-align: right;\n",
       "    }\n",
       "</style>\n",
       "<table border=\"1\" class=\"dataframe\">\n",
       "  <thead>\n",
       "    <tr style=\"text-align: right;\">\n",
       "      <th></th>\n",
       "      <th>Predictions</th>\n",
       "      <th>Name of Files</th>\n",
       "    </tr>\n",
       "  </thead>\n",
       "  <tbody>\n",
       "    <tr>\n",
       "      <th>0</th>\n",
       "      <td>disgust</td>\n",
       "      <td>03-01-07-01-02-02-14.wav</td>\n",
       "    </tr>\n",
       "    <tr>\n",
       "      <th>1</th>\n",
       "      <td>disgust</td>\n",
       "      <td>03-01-02-02-01-02-03.wav</td>\n",
       "    </tr>\n",
       "    <tr>\n",
       "      <th>2</th>\n",
       "      <td>calm</td>\n",
       "      <td>03-01-02-02-01-01-18.wav</td>\n",
       "    </tr>\n",
       "    <tr>\n",
       "      <th>3</th>\n",
       "      <td>calm</td>\n",
       "      <td>03-01-02-01-01-01-15.wav</td>\n",
       "    </tr>\n",
       "    <tr>\n",
       "      <th>4</th>\n",
       "      <td>angry</td>\n",
       "      <td>03-01-05-02-02-01-02.wav</td>\n",
       "    </tr>\n",
       "    <tr>\n",
       "      <th>5</th>\n",
       "      <td>calm</td>\n",
       "      <td>03-01-02-02-01-01-08.wav</td>\n",
       "    </tr>\n",
       "    <tr>\n",
       "      <th>6</th>\n",
       "      <td>happy</td>\n",
       "      <td>03-01-03-02-02-01-03.wav</td>\n",
       "    </tr>\n",
       "    <tr>\n",
       "      <th>7</th>\n",
       "      <td>disgust</td>\n",
       "      <td>03-01-07-01-01-01-13.wav</td>\n",
       "    </tr>\n",
       "    <tr>\n",
       "      <th>8</th>\n",
       "      <td>angry</td>\n",
       "      <td>03-01-05-01-01-01-12.wav</td>\n",
       "    </tr>\n",
       "    <tr>\n",
       "      <th>9</th>\n",
       "      <td>calm</td>\n",
       "      <td>03-01-03-01-01-01-13.wav</td>\n",
       "    </tr>\n",
       "  </tbody>\n",
       "</table>\n",
       "</div>"
      ],
      "text/plain": [
       "  Predictions             Name of Files\n",
       "0     disgust  03-01-07-01-02-02-14.wav\n",
       "1     disgust  03-01-02-02-01-02-03.wav\n",
       "2        calm  03-01-02-02-01-01-18.wav\n",
       "3        calm  03-01-02-01-01-01-15.wav\n",
       "4       angry  03-01-05-02-02-01-02.wav\n",
       "5        calm  03-01-02-02-01-01-08.wav\n",
       "6       happy  03-01-03-02-02-01-03.wav\n",
       "7     disgust  03-01-07-01-01-01-13.wav\n",
       "8       angry  03-01-05-01-01-01-12.wav\n",
       "9        calm  03-01-03-01-01-01-13.wav"
      ]
     },
     "execution_count": 62,
     "metadata": {},
     "output_type": "execute_result"
    }
   ],
   "source": [
    "y_pred1[:10]"
   ]
  },
  {
   "cell_type": "markdown",
   "metadata": {},
   "source": [
    "#  Demo \n"
   ]
  },
  {
   "cell_type": "code",
   "execution_count": 150,
   "metadata": {},
   "outputs": [
    {
     "name": "stdout",
     "output_type": "stream",
     "text": [
      "* recording\n",
      "* done recording\n"
     ]
    }
   ],
   "source": [
    "import pyaudio\n",
    "import wave\n",
    "\n",
    "CHUNK = 1024 \n",
    "FORMAT = pyaudio.paInt16 #paInt8\n",
    "CHANNELS = 2 \n",
    "RATE = 44100 #sample rate\n",
    "RECORD_SECONDS = 4\n",
    "WAVE_OUTPUT_FILENAME = \"recordedAudio.wav\"\n",
    "\n",
    "p = pyaudio.PyAudio()\n",
    "\n",
    "stream = p.open(format=FORMAT,\n",
    "                channels=CHANNELS,\n",
    "                rate=RATE,\n",
    "                input=True,\n",
    "                frames_per_buffer=CHUNK) #buffer\n",
    "\n",
    "print(\"* recording\")\n",
    "frames = []\n",
    "\n",
    "for i in range(0, int(RATE / CHUNK * RECORD_SECONDS)):\n",
    "    data = stream.read(CHUNK)\n",
    "    frames.append(data) # 2 bytes(16 bits) per channel\n",
    "\n",
    "print(\"* done recording\")\n",
    "\n",
    "stream.stop_stream()\n",
    "stream.close()\n",
    "p.terminate()\n",
    "\n",
    "wf = wave.open(WAVE_OUTPUT_FILENAME, 'wb')\n",
    "wf.setnchannels(CHANNELS)\n",
    "wf.setsampwidth(p.get_sample_size(FORMAT))\n",
    "wf.setframerate(RATE)\n",
    "wf.writeframes(b''.join(frames))\n",
    "wf.close()"
   ]
  },
  {
   "cell_type": "code",
   "execution_count": 151,
   "metadata": {},
   "outputs": [
    {
     "data": {
      "text/plain": [
       "<matplotlib.collections.PolyCollection at 0x2333f276190>"
      ]
     },
     "execution_count": 151,
     "metadata": {},
     "output_type": "execute_result"
    },
    {
     "data": {
      "image/png": "[encoded data removed]",
      "text/plain": [
       "<Figure size 1080x360 with 1 Axes>"
      ]
     },
     "metadata": {
      "needs_background": "light"
     },
     "output_type": "display_data"
    }
   ],
   "source": [
    "data, sampling_rate = librosa.load('recordedAudio.wav')\n",
    "%matplotlib inline\n",
    "import os\n",
    "import pandas as pd\n",
    "import librosa.display\n",
    "import glob \n",
    "\n",
    "plt.figure(figsize=(15, 5))\n",
    "librosa.display.waveplot(data, sr=sampling_rate)"
   ]
  },
  {
   "cell_type": "markdown",
   "metadata": {},
   "source": [
    "## Converting the Stereo Audio to Mono Channel Audio"
   ]
  },
  {
   "cell_type": "code",
   "execution_count": 3,
   "metadata": {},
   "outputs": [],
   "source": [
    "from pydub import AudioSegment"
   ]
  },
  {
   "cell_type": "code",
   "execution_count": 152,
   "metadata": {},
   "outputs": [
    {
     "data": {
      "text/plain": [
       "<_io.BufferedRandom name='recordedAudioMono.wav'>"
      ]
     },
     "execution_count": 152,
     "metadata": {},
     "output_type": "execute_result"
    }
   ],
   "source": [
    "sound = AudioSegment.from_wav(\"recordedAudio.wav\")\n",
    "sound = sound.set_channels(1)\n",
    "sound.export(\"recordedAudioMono.wav\", format=\"wav\")"
   ]
  },
  {
   "cell_type": "markdown",
   "metadata": {},
   "source": [
    "## Predicting the Speech emotion of recorded audio"
   ]
  },
  {
   "cell_type": "code",
   "execution_count": 153,
   "metadata": {},
   "outputs": [
    {
     "name": "stdout",
     "output_type": "stream",
     "text": [
      "The Emotion of the recorded Audio is  calm\n"
     ]
    }
   ],
   "source": [
    "file = 'recordedAudioMono.wav'\n",
    "data , sr = librosa.load(file)\n",
    "data = np.array(data)\n",
    "ans =[]\n",
    "new_feature  = extract_feature(file, mfcc=True, chroma=True, mel=True)\n",
    "ans.append(new_feature)\n",
    "ans = np.array(ans)\n",
    "\n",
    "\n",
    "\n",
    "Emotion = VoiceEmotionRecogModel_DharmikJoshi.predict(ans)\n",
    "print('The Emotion of the recorded Audio is ' , Emotion[0])"
   ]
  }
 ],
 "metadata": {
  "kernelspec": {
   "display_name": "Python 3",
   "language": "python",
   "name": "python3"
  },
  "language_info": {
   "codemirror_mode": {
    "name": "ipython",
    "version": 3
   },
   "file_extension": ".py",
   "mimetype": "text/x-python",
   "name": "python",
   "nbconvert_exporter": "python",
   "pygments_lexer": "ipython3",
   "version": "3.8.5"
  }
 },
 "nbformat": 4,
 "nbformat_minor": 4
}
